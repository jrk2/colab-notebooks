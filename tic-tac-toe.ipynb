{
 "cells": [
  {
   "cell_type": "code",
   "execution_count": null,
   "id": "c039eda1",
   "metadata": {},
   "outputs": [],
   "source": []
  },
  {
   "cell_type": "code",
   "execution_count": 1,
   "id": "82d16bf2",
   "metadata": {},
   "outputs": [],
   "source": [
    "def check_status(game_list):\n",
    "  status = False\n",
    "  for x in range(0,3):\n",
    "    if game_list[x] == game_list[x+3]==game_list[x+6]:\n",
    "      status = True\n",
    "      return status \n",
    "    \n",
    "  for x in range(0,7,3):\n",
    "    if game_list[x] == game_list[x+1]==game_list[x+2]:\n",
    "      status = True\n",
    "      return status  \n",
    "\n",
    "  if game_list[0]==game_list[4]==game_list[8]:\n",
    "    return True;\n",
    "  if game_list[2]==game_list[4]==game_list[6]:\n",
    "    return True;\n",
    "\n",
    "\n",
    "\n",
    "  return status\n",
    "\n"
   ]
  },
  {
   "cell_type": "code",
   "execution_count": 8,
   "id": "9ef7b753",
   "metadata": {},
   "outputs": [],
   "source": [
    "def replacement_value(game_list,position,player):\n",
    "  if game_list[position] not in ['X','O']:\n",
    "     game_list[position] = player\n",
    "  else :\n",
    "    \n",
    "    print('position already filled  , you forfeit your turn ')\n",
    "    time.sleep(4)\n",
    "\n",
    "    \n",
    "\n",
    "  return game_list"
   ]
  },
  {
   "cell_type": "code",
   "execution_count": 9,
   "id": "798b6368",
   "metadata": {},
   "outputs": [],
   "source": [
    "def position_choice(player,x):\n",
    "\n",
    "  choice = True\n",
    "\n",
    "  while choice :\n",
    "    if x%2==0:\n",
    "      value = input(f'\\n player1 please  pick a available postion (0,1,2..7,8) to put your symbol {player} : ')\n",
    "    else:\n",
    "      value = input(f'\\n player2 please  pick a available postion (0,1,2..7,8) to put your symbol {player} : ')\n",
    "\n",
    "    if value not in ['0','1','2','3','4','5','6','7','8','9']:\n",
    "      print('sorry invalid choice! ')\n",
    "    else:\n",
    "      choice=False  \n",
    "  \n",
    "  return int(value)"
   ]
  },
  {
   "cell_type": "code",
   "execution_count": 10,
   "id": "9a97c3a1",
   "metadata": {},
   "outputs": [],
   "source": [
    "def display_game(game_list):\n",
    "  print('here is the current board ')\n",
    "  print(game_list[0],' | ',game_list[1],' | ',game_list[2])\n",
    "  print('-------------')\n",
    "  print(game_list[3],' | ',game_list[4],' | ',game_list[5])\n",
    "  print('-------------')\n",
    "  print(game_list[6],' | ',game_list[7],' | ',game_list[8])\n",
    "\n"
   ]
  },
  {
   "cell_type": "code",
   "execution_count": 13,
   "id": "2c063806",
   "metadata": {},
   "outputs": [
    {
     "name": "stdout",
     "output_type": "stream",
     "text": [
      "the game is a tie and there is no winner\n",
      "here is the current board \n",
      "O  |  O  |  X\n",
      "-------------\n",
      "X  |  X  |  O\n",
      "-------------\n",
      "O  |  X  |  X\n"
     ]
    }
   ],
   "source": [
    "from IPython.display import clear_output\n",
    "import time\n",
    "\n",
    "def myfunc():\n",
    "  print('func() in one.py')\n",
    "\n",
    "\n",
    "\n",
    "if __name__ ==\"__main__\":\n",
    "  print('welcome to the tic-tac-toe game ')\n",
    "  \n",
    "  game_list = list(range(0,9))\n",
    "  wrong=True\n",
    "  player2= ''\n",
    "  while wrong==True:\n",
    "    player1 = input(\"player 1 select your symbol ie.  X or O  \")\n",
    "    if player1 in ['X','O']:\n",
    "      wrong=False\n",
    "      if(player1== 'X'):\n",
    "        print('\\nplayer2 your symbol is O \\n')\n",
    "        player2='O'\n",
    "      else:\n",
    "        print('\\nplayer2 your symbol is X \\n')\n",
    "        player2='X'\n",
    "    else:\n",
    "      print(\"please enter a symbol between X or O\")    \n",
    "    \n",
    " \n",
    "\n",
    "  winnercheck =0 \n",
    "  display_game(game_list) \n",
    "  time.sleep(5) \n",
    "  clear_output()\n",
    "  for x in range(0,9):\n",
    "    if(x%2==0):\n",
    "      display_game(game_list)\n",
    "      input_position = position_choice(player1,x)\n",
    "      game_list = replacement_value(game_list,input_position,player1)\n",
    "      \n",
    "      if check_status(game_list):\n",
    "        print(f\"player 1 with the symbol {player1} is the winner\")\n",
    "        winnercheck=1\n",
    "        break;\n",
    "      clear_output()\n",
    "\n",
    "    else :\n",
    "      display_game(game_list)\n",
    "      input_position = position_choice(player2,x)\n",
    "      print(input_position)\n",
    "      game_list = replacement_value(game_list,input_position,player2)\n",
    "      \n",
    "      if check_status(game_list):\n",
    "        print(f\"player 2 with the symbol {player2} is the winner\")\n",
    "        winnercheck=1\n",
    "        break;\n",
    "      clear_output()\n",
    "  if winnercheck==0:\n",
    "    print('the game is a tie and there is no winner')\n",
    "  display_game(game_list)\n",
    "  \n",
    "  \n",
    "else:\n",
    "  print('one.py has been imported')  \n"
   ]
  },
  {
   "cell_type": "markdown",
   "id": "9527cb03",
   "metadata": {},
   "source": []
  },
  {
   "cell_type": "code",
   "execution_count": null,
   "id": "222cec4f",
   "metadata": {},
   "outputs": [],
   "source": []
  },
  {
   "cell_type": "code",
   "execution_count": null,
   "id": "1228c9c3",
   "metadata": {},
   "outputs": [],
   "source": []
  },
  {
   "cell_type": "code",
   "execution_count": null,
   "id": "fe7b313d",
   "metadata": {},
   "outputs": [],
   "source": []
  }
 ],
 "metadata": {
  "kernelspec": {
   "display_name": "Python 3 (ipykernel)",
   "language": "python",
   "name": "python3"
  },
  "language_info": {
   "codemirror_mode": {
    "name": "ipython",
    "version": 3
   },
   "file_extension": ".py",
   "mimetype": "text/x-python",
   "name": "python",
   "nbconvert_exporter": "python",
   "pygments_lexer": "ipython3",
   "version": "3.9.12"
  }
 },
 "nbformat": 4,
 "nbformat_minor": 5
}
